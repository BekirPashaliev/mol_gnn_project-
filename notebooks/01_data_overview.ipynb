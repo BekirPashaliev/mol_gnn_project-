{
 "cells": [
  {
   "metadata": {},
   "cell_type": "markdown",
   "source": [
    "# 01 – Data Overview\n",
    "\n",
    "* Inspect raw CSV statistics (molecule count, IC50 distribution)\n",
    "* Visualise IC50 histogram and activity threshold\n",
    "* Show example structures inline (RDKit drawings)\n",
    "* Verify class balance in train/val/test splits\n",
    "\n"
   ],
   "id": "5424c482e313fe90"
  },
  {
   "cell_type": "code",
   "execution_count": null,
   "id": "initial_id",
   "metadata": {
    "collapsed": true
   },
   "outputs": [],
   "source": [
    ""
   ]
  }
 ],
 "metadata": {
  "kernelspec": {
   "display_name": "Python 3",
   "language": "python",
   "name": "python3"
  },
  "language_info": {
   "codemirror_mode": {
    "name": "ipython",
    "version": 2
   },
   "file_extension": ".py",
   "mimetype": "text/x-python",
   "name": "python",
   "nbconvert_exporter": "python",
   "pygments_lexer": "ipython2",
   "version": "2.7.6"
  }
 },
 "nbformat": 4,
 "nbformat_minor": 5
}
